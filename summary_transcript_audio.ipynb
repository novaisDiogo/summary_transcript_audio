{
  "nbformat": 4,
  "nbformat_minor": 0,
  "metadata": {
    "colab": {
      "provenance": [],
      "gpuType": "T4"
    },
    "kernelspec": {
      "name": "python3",
      "display_name": "Python 3"
    },
    "language_info": {
      "name": "python"
    },
    "accelerator": "GPU"
  },
  "cells": [
    {
      "cell_type": "code",
      "execution_count": null,
      "metadata": {
        "id": "2A3XnGNkbc4G"
      },
      "outputs": [],
      "source": [
        "!pip install -q requests torch bitsandbytes transformers sentencepiece accelerate httpx==0.28.1 gradio"
      ]
    },
    {
      "cell_type": "code",
      "source": [
        "import os\n",
        "import requests\n",
        "from IPython.display import Markdown, display, update_display\n",
        "from google.colab import drive\n",
        "from huggingface_hub import login\n",
        "from google.colab import userdata\n",
        "from transformers import AutoTokenizer, AutoModelForCausalLM, TextStreamer, BitsAndBytesConfig, AutoModelForSpeechSeq2Seq, AutoProcessor, pipeline, TextIteratorStreamer\n",
        "import torch\n",
        "import gradio as gr\n",
        "import threading"
      ],
      "metadata": {
        "id": "uRe4S_VHbqFi"
      },
      "execution_count": null,
      "outputs": []
    },
    {
      "cell_type": "code",
      "source": [
        "AUDIO_MODEL = \"openai/whisper-medium\"\n",
        "MODEL = \"meta-llama/Meta-Llama-3.1-8B-Instruct\""
      ],
      "metadata": {
        "id": "2nFDxoB8btxP"
      },
      "execution_count": null,
      "outputs": []
    },
    {
      "cell_type": "code",
      "source": [
        "drive.mount(\"/content/drive\")\n",
        "audio_filename = \"/content/drive/MyDrive/llms/Weekly_Meeting_Example.mp3\""
      ],
      "metadata": {
        "id": "-JW5dYbEby-i"
      },
      "execution_count": null,
      "outputs": []
    },
    {
      "cell_type": "code",
      "source": [
        "hf_token = userdata.get('HF_TOKEN')\n",
        "login(hf_token, add_to_git_credential=True)"
      ],
      "metadata": {
        "id": "yo2uzYBfb1f9"
      },
      "execution_count": null,
      "outputs": []
    },
    {
      "cell_type": "code",
      "source": [
        "quant_config = BitsAndBytesConfig(\n",
        "    load_in_4bit=True,\n",
        "    bnb_4bit_use_double_quant=True,\n",
        "    bnb_4bit_compute_dtype=torch.bfloat16,\n",
        "    bnb_4bit_quant_type=\"nf4\"\n",
        ")"
      ],
      "metadata": {
        "id": "_QiKMjOTc2WO"
      },
      "execution_count": null,
      "outputs": []
    },
    {
      "cell_type": "code",
      "source": [
        "speech_model = AutoModelForSpeechSeq2Seq.from_pretrained(AUDIO_MODEL, torch_dtype=torch.float16, low_cpu_mem_usage=True, use_safetensors=True)\n",
        "speech_model.to('cuda')\n",
        "processor = AutoProcessor.from_pretrained(AUDIO_MODEL)\n",
        "\n",
        "pipe = pipeline(\n",
        "    \"automatic-speech-recognition\",\n",
        "    model=speech_model,\n",
        "    tokenizer=processor.tokenizer,\n",
        "    feature_extractor=processor.feature_extractor,\n",
        "    torch_dtype=torch.float16,\n",
        "    device='cuda',\n",
        ")"
      ],
      "metadata": {
        "id": "kFk8wGZKv8Er"
      },
      "execution_count": null,
      "outputs": []
    },
    {
      "cell_type": "code",
      "source": [
        "system_message = \"You are an assistant that produces minutes of meetings from transcripts, with summary, key discussion points, takeaways and action items with owners, in markdown.\""
      ],
      "metadata": {
        "id": "k0MEGcrhcEQS"
      },
      "execution_count": null,
      "outputs": []
    },
    {
      "cell_type": "code",
      "source": [
        "tokenizer = AutoTokenizer.from_pretrained(MODEL)\n",
        "tokenizer.pad_token = tokenizer.eos_token\n",
        "model = AutoModelForCausalLM.from_pretrained(MODEL, device_map=\"auto\", quantization_config=quant_config)"
      ],
      "metadata": {
        "id": "JLdnv7b83P9B"
      },
      "execution_count": null,
      "outputs": []
    },
    {
      "cell_type": "code",
      "source": [
        "streamer = TextIteratorStreamer(tokenizer, skip_special_tokens=True, skip_prompt=True)"
      ],
      "metadata": {
        "id": "sf04cRFXMCIN"
      },
      "execution_count": null,
      "outputs": []
    },
    {
      "cell_type": "code",
      "source": [
        "def summary_audio(audio_filepath):\n",
        "\n",
        "    if not audio_filepath:\n",
        "        yield \"Please provide an audio file path.\"\n",
        "        return\n",
        "\n",
        "    try:\n",
        "      audio_filepath = \"/content/drive/MyDrive/\" + audio_filepath\n",
        "\n",
        "      result = pipe(audio_filepath, return_timestamps=True)\n",
        "      transcription = result[\"text\"]\n",
        "\n",
        "      llm_messages = [{\"role\": \"system\", \"content\": f\"{system_message}\\n\\nMeeting Transcript:\\n{transcription}\"}]\n",
        "      inputs = tokenizer.apply_chat_template(llm_messages, return_tensors=\"pt\").to(\"cuda\")\n",
        "\n",
        "      generation_args = {\n",
        "            \"inputs\": inputs,\n",
        "            \"max_new_tokens\": 2000,\n",
        "            \"streamer\": streamer\n",
        "        }\n",
        "\n",
        "      generation_thread = threading.Thread(target=model.generate, kwargs=generation_args)\n",
        "      generation_thread.start()\n",
        "\n",
        "      buffer = \"\"\n",
        "      for new_text in streamer:\n",
        "          buffer += new_text\n",
        "          yield buffer\n",
        "\n",
        "    except FileNotFoundError:\n",
        "        yield f\"Error: File not found at {audio_filepath}\"\n",
        "    except Exception as e:\n",
        "        yield f\"Error processing audio or generating response: {e}\""
      ],
      "metadata": {
        "id": "EkngUUZa1x7k"
      },
      "execution_count": null,
      "outputs": []
    },
    {
      "cell_type": "code",
      "source": [
        "with gr.Blocks() as ui:\n",
        "    gr.Markdown(\"# Meeting Summary Chatbot\")\n",
        "    gr.Markdown(\"Enter the Google Drive path to an audio file and chat about its transcription.\")\n",
        "\n",
        "    with gr.Row():\n",
        "        audio_path = gr.Textbox(label=\"Audio File Path:\", lines=1)\n",
        "\n",
        "    with gr.Row():\n",
        "        summary = gr.Button(\"Summary\")\n",
        "\n",
        "    with gr.Row():\n",
        "        text_summary_out = gr.Textbox(label=\"Result:\", lines=20)\n",
        "\n",
        "    summary.click(fn=summary_audio, inputs=[audio_path], outputs=text_summary_out)\n"
      ],
      "metadata": {
        "id": "9SLV_AfY9xvT"
      },
      "execution_count": null,
      "outputs": []
    },
    {
      "cell_type": "code",
      "source": [
        "ui.launch(share=True)"
      ],
      "metadata": {
        "id": "LofEFobc34xG"
      },
      "execution_count": null,
      "outputs": []
    }
  ]
}